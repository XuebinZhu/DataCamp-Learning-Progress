{
 "cells": [
  {
   "cell_type": "code",
   "execution_count": null,
   "metadata": {},
   "outputs": [],
   "source": [
    "#Making a scatter plot with lists\n",
    "\n",
    "# Import Matplotlib and Seaborn\n",
    "import matplotlib.pyplot as plt\n",
    "import seaborn as sns\n",
    "\n",
    "# Create scatter plot with GDP on the x-axis and number of phones on the y-axis\n",
    "sns.scatterplot(x=gdp, y=phones)\n",
    "\n",
    "# Show plot\n",
    "plt.show()"
   ]
  },
  {
   "cell_type": "code",
   "execution_count": null,
   "metadata": {},
   "outputs": [],
   "source": [
    "# Change this scatter plot to have percent literate on the y-axis\n",
    "sns.scatterplot(x=gdp, y=percent_literate)\n",
    "\n",
    "# Show plot\n",
    "plt.show()"
   ]
  },
  {
   "cell_type": "code",
   "execution_count": null,
   "metadata": {},
   "outputs": [],
   "source": [
    "#Making a count plot with a list\n",
    "\n",
    "# Import Matplotlib and Seaborn\n",
    "import matplotlib.pyplot as plt\n",
    "import seaborn as sns\n",
    "\n",
    "# Create count plot with region on the y-axis\n",
    "sns.countplot(y = region)\n",
    "\n",
    "# Show plot\n",
    "plt.show()"
   ]
  },
  {
   "cell_type": "code",
   "execution_count": null,
   "metadata": {},
   "outputs": [],
   "source": [
    "#\"Tidy\" vs. \"untidy\" data\n",
    "\n",
    "# Import Pandas\n",
    "import pandas as pd\n",
    "\n",
    "# Create a DataFrame from csv file\n",
    "df = pd.read_csv(csv_filepath)\n",
    "\n",
    "# Print the head of df\n",
    "print(df.head())"
   ]
  },
  {
   "cell_type": "code",
   "execution_count": null,
   "metadata": {},
   "outputs": [],
   "source": [
    "#Making a count plot with a DataFrame\n",
    "\n",
    "# Import Matplotlib, Pandas, and Seaborn\n",
    "import matplotlib.pyplot as plt\n",
    "import pandas as pd\n",
    "import seaborn as sns\n",
    "\n",
    "# Create a DataFrame from csv file\n",
    "df = pd.read_csv(csv_filepath)\n",
    "\n",
    "# Create a count plot with \"Spiders\" on the x-axis\n",
    "sns.countplot(x = 'Spiders', data = df)\n",
    "\n",
    "# Display the plot\n",
    "plt.show()"
   ]
  },
  {
   "cell_type": "code",
   "execution_count": null,
   "metadata": {},
   "outputs": [],
   "source": [
    "#Hue and scatter plots\n",
    "\n",
    "# Import Matplotlib and Seaborn\n",
    "import matplotlib.pyplot as plt\n",
    "import seaborn as sns\n",
    "\n",
    "# Create a scatter plot of absences vs. final grade\n",
    "sns.scatterplot(x = 'absences', y = 'G3', data = student_data, hue = 'location')\n",
    "\n",
    "\n",
    "\n",
    "# Show plot\n",
    "plt.show()"
   ]
  },
  {
   "cell_type": "code",
   "execution_count": null,
   "metadata": {},
   "outputs": [],
   "source": [
    "# Change the legend order in the scatter plot\n",
    "sns.scatterplot(x=\"absences\", y=\"G3\", \n",
    "                data=student_data, \n",
    "                hue=\"location\",\n",
    "                hue_order = ['Rural', 'Urban'])\n",
    "\n",
    "# Show plot\n",
    "plt.show()"
   ]
  },
  {
   "cell_type": "code",
   "execution_count": null,
   "metadata": {},
   "outputs": [],
   "source": [
    "#Hue and count plots\n",
    "\n",
    "# Import Matplotlib and Seaborn\n",
    "import matplotlib.pyplot as plt\n",
    "import seaborn as sns\n",
    "\n",
    "# Create a dictionary mapping subgroup values to colors\n",
    "palette_colors = {\"Rural\": \"green\", \"Urban\": \"blue\"}\n",
    "\n",
    "# Create a count plot of school with location subgroups\n",
    "sns.countplot(x = 'school', data = student_data, hue = 'location', palette = palette_colors)\n",
    "\n",
    "\n",
    "\n",
    "# Display plot\n",
    "plt.show()"
   ]
  },
  {
   "cell_type": "code",
   "execution_count": null,
   "metadata": {},
   "outputs": [],
   "source": [
    "#Creating subplots with col and row\n",
    "\n",
    "# Change to use relplot() instead of scatterplot()\n",
    "sns.relplot(x=\"absences\", y=\"G3\", \n",
    "                data=student_data, kind = 'scatter')\n",
    "\n",
    "# Show plot\n",
    "plt.show()"
   ]
  },
  {
   "cell_type": "code",
   "execution_count": null,
   "metadata": {},
   "outputs": [],
   "source": [
    "# Change to make subplots based on study time\n",
    "sns.relplot(x=\"absences\", y=\"G3\", \n",
    "            data=student_data,\n",
    "            kind=\"scatter\",\n",
    "            col = 'study_time')\n",
    "\n",
    "# Show plot\n",
    "plt.show()"
   ]
  },
  {
   "cell_type": "code",
   "execution_count": null,
   "metadata": {},
   "outputs": [],
   "source": [
    "# Change this scatter plot to arrange the plots in rows instead of columns\n",
    "sns.relplot(x=\"absences\", y=\"G3\", \n",
    "            data=student_data,\n",
    "            kind=\"scatter\", \n",
    "            row=\"study_time\")\n",
    "\n",
    "# Show plot\n",
    "plt.show()"
   ]
  },
  {
   "cell_type": "code",
   "execution_count": null,
   "metadata": {},
   "outputs": [],
   "source": [
    "#Creating two-factor subplots\n",
    "\n",
    "# Create a scatter plot of G1 vs. G3\n",
    "sns.relplot(x = 'G1', y = 'G3', data = student_data, kind = 'scatter')\n",
    "\n",
    "# Show plot\n",
    "plt.show()"
   ]
  },
  {
   "cell_type": "code",
   "execution_count": null,
   "metadata": {},
   "outputs": [],
   "source": [
    "# Adjust to add subplots based on school support\n",
    "sns.relplot(x=\"G1\", y=\"G3\", \n",
    "            data=student_data,\n",
    "            kind=\"scatter\",\n",
    "            col='schoolsup',\n",
    "            col_order=['yes', 'no'])\n",
    "\n",
    "# Show plot\n",
    "plt.show()"
   ]
  },
  {
   "cell_type": "code",
   "execution_count": null,
   "metadata": {},
   "outputs": [],
   "source": [
    "# Adjust further to add subplots based on family support\n",
    "sns.relplot(x=\"G1\", y=\"G3\", \n",
    "            data=student_data,\n",
    "            kind=\"scatter\", \n",
    "            col=\"schoolsup\",\n",
    "            col_order=[\"yes\", \"no\"],\n",
    "            row='famsup',\n",
    "            row_order=['yes', 'no'])\n",
    "\n",
    "# Show plot\n",
    "plt.show()"
   ]
  },
  {
   "cell_type": "code",
   "execution_count": null,
   "metadata": {},
   "outputs": [],
   "source": [
    "#Changing the size of scatter plot points\n",
    "\n",
    "# Import Matplotlib and Seaborn\n",
    "import matplotlib.pyplot as plt\n",
    "import seaborn as sns\n",
    "\n",
    "# Create scatter plot of horsepower vs. mpg\n",
    "sns.relplot(x = 'horsepower', y = 'mpg', data = mpg, size = 'cylinders', kind = 'scatter')\n",
    "\n",
    "\n",
    "\n",
    "# Show plot\n",
    "plt.show()"
   ]
  },
  {
   "cell_type": "code",
   "execution_count": null,
   "metadata": {},
   "outputs": [],
   "source": [
    "# Import Matplotlib and Seaborn\n",
    "import matplotlib.pyplot as plt\n",
    "import seaborn as sns\n",
    "\n",
    "# Create scatter plot of horsepower vs. mpg\n",
    "sns.relplot(x=\"horsepower\", y=\"mpg\", \n",
    "            data=mpg, kind=\"scatter\", \n",
    "            size=\"cylinders\",\n",
    "            hue=\"cylinders\")\n",
    "\n",
    "# Show plot\n",
    "plt.show()"
   ]
  },
  {
   "cell_type": "code",
   "execution_count": null,
   "metadata": {},
   "outputs": [],
   "source": [
    "#Changing the style of scatter plot points\n",
    "\n",
    "# Import Matplotlib and Seaborn\n",
    "import matplotlib.pyplot as plt\n",
    "import seaborn as sns\n",
    "\n",
    "# Create a scatter plot of acceleration vs. mpg\n",
    "sns.relplot(x = 'acceleration', y = 'mpg', data = mpg, kind = 'scatter', hue = 'origin', style = 'origin')\n",
    "\n",
    "\n",
    "\n",
    "# Show plot\n",
    "plt.show()"
   ]
  },
  {
   "cell_type": "code",
   "execution_count": null,
   "metadata": {},
   "outputs": [],
   "source": [
    "#Interpreting line plots\n",
    "\n",
    "# Import Matplotlib and Seaborn\n",
    "import matplotlib.pyplot as plt\n",
    "import seaborn as sns\n",
    "\n",
    "# Create line plot\n",
    "sns.relplot(x = 'model_year', y = 'mpg', data = mpg, kind = 'line')\n",
    "\n",
    "\n",
    "# Show plot\n",
    "plt.show()"
   ]
  },
  {
   "cell_type": "code",
   "execution_count": null,
   "metadata": {},
   "outputs": [],
   "source": [
    "#Visualizing standard deviation with line plots\n",
    "\n",
    "# Make the shaded area show the standard deviation\n",
    "sns.relplot(x=\"model_year\", y=\"mpg\",\n",
    "            data=mpg, kind=\"line\", ci = 'sd')\n",
    "\n",
    "# Show plot\n",
    "plt.show()"
   ]
  },
  {
   "cell_type": "code",
   "execution_count": null,
   "metadata": {},
   "outputs": [],
   "source": [
    "#Plotting subgroups in line plots\n",
    "\n",
    "# Import Matplotlib and Seaborn\n",
    "import matplotlib.pyplot as plt\n",
    "import seaborn as sns\n",
    "\n",
    "# Create line plot of model year vs. horsepower\n",
    "sns.relplot(x = 'model_year', y = 'horsepower', data = mpg, kind = 'line', ci = None)\n",
    "\n",
    "\n",
    "\n",
    "# Show plot\n",
    "plt.show()"
   ]
  },
  {
   "cell_type": "code",
   "execution_count": null,
   "metadata": {},
   "outputs": [],
   "source": [
    "# Import Matplotlib and Seaborn\n",
    "import matplotlib.pyplot as plt\n",
    "import seaborn as sns\n",
    "\n",
    "# Change to create subgroups for country of origin\n",
    "sns.relplot(x=\"model_year\", y=\"horsepower\", \n",
    "            data=mpg, kind=\"line\", style = 'origin', hue = 'origin',\n",
    "            ci=None)\n",
    "\n",
    "# Show plot\n",
    "plt.show()"
   ]
  },
  {
   "cell_type": "code",
   "execution_count": null,
   "metadata": {},
   "outputs": [],
   "source": [
    "# Import Matplotlib and Seaborn\n",
    "import matplotlib.pyplot as plt\n",
    "import seaborn as sns\n",
    "\n",
    "# Add markers and make each line have the same style\n",
    "sns.relplot(x=\"model_year\", y=\"horsepower\", \n",
    "            data=mpg, kind=\"line\", \n",
    "            ci=None, style=\"origin\", \n",
    "            hue=\"origin\", markers = True, dashes = False)\n",
    "\n",
    "# Show plot\n",
    "plt.show()"
   ]
  },
  {
   "cell_type": "code",
   "execution_count": null,
   "metadata": {},
   "outputs": [],
   "source": [
    "#Count plots\n",
    "\n",
    "# Create count plot of internet usage\n",
    "sns.catplot(x = 'Internet usage', data = survey_data, kind = 'count')\n",
    "\n",
    "\n",
    "# Show plot\n",
    "plt.show()"
   ]
  },
  {
   "cell_type": "code",
   "execution_count": null,
   "metadata": {},
   "outputs": [],
   "source": [
    "# Change the orientation of the plot\n",
    "sns.catplot(y=\"Internet usage\", data=survey_data,\n",
    "            kind=\"count\")\n",
    "\n",
    "# Show plot\n",
    "plt.show()"
   ]
  },
  {
   "cell_type": "code",
   "execution_count": null,
   "metadata": {},
   "outputs": [],
   "source": [
    "# Create column subplots based on age category\n",
    "sns.catplot(y=\"Internet usage\", data=survey_data,\n",
    "            kind=\"count\",\n",
    "            col='Age Category')\n",
    "\n",
    "# Show plot\n",
    "plt.show()"
   ]
  },
  {
   "cell_type": "code",
   "execution_count": null,
   "metadata": {},
   "outputs": [],
   "source": [
    "#Bar plots with percentages\n",
    "\n",
    "# Create a bar plot of interest in math, separated by gender\n",
    "sns.catplot(x = 'Gender', y = 'Interested in Math', data = survey_data, kind = 'bar')\n",
    "\n",
    "\n",
    "# Show plot\n",
    "plt.show()"
   ]
  },
  {
   "cell_type": "code",
   "execution_count": null,
   "metadata": {},
   "outputs": [],
   "source": [
    "#Customizing bar plots\n",
    "\n",
    "# Create bar plot of average final grade in each study category\n",
    "sns.catplot(x = 'study_time', y = 'G3', data = student_data, kind = 'bar')\n",
    "\n",
    "\n",
    "\n",
    "# Show plot\n",
    "plt.show()"
   ]
  },
  {
   "cell_type": "code",
   "execution_count": null,
   "metadata": {},
   "outputs": [],
   "source": [
    "# Rearrange the categories\n",
    "sns.catplot(x=\"study_time\", y=\"G3\",\n",
    "            data=student_data,\n",
    "            kind=\"bar\",\n",
    "            order = ['<2 hours', '2 to 5 hours', '5 to 10 hours', '>10 hours'])\n",
    "\n",
    "# Show plot\n",
    "plt.show()"
   ]
  },
  {
   "cell_type": "code",
   "execution_count": null,
   "metadata": {},
   "outputs": [],
   "source": [
    "# Turn off the confidence intervals\n",
    "sns.catplot(x=\"study_time\", y=\"G3\",\n",
    "            data=student_data,\n",
    "            kind=\"bar\",\n",
    "            order=[\"<2 hours\", \n",
    "                   \"2 to 5 hours\", \n",
    "                   \"5 to 10 hours\", \n",
    "                   \">10 hours\"],\n",
    "                   ci = None)\n",
    "\n",
    "# Show plot\n",
    "plt.show()"
   ]
  },
  {
   "cell_type": "code",
   "execution_count": null,
   "metadata": {},
   "outputs": [],
   "source": [
    "#Create and interpret a box plot\n",
    "\n",
    "# Specify the category ordering\n",
    "study_time_order = [\"<2 hours\", \"2 to 5 hours\", \n",
    "                    \"5 to 10 hours\", \">10 hours\"]\n",
    "\n",
    "# Create a box plot and set the order of the categories\n",
    "sns.catplot(x = 'study_time', y = 'G3', data = student_data, kind = 'box', order = study_time_order)\n",
    "\n",
    "# Show plot\n",
    "plt.show()"
   ]
  },
  {
   "cell_type": "code",
   "execution_count": null,
   "metadata": {},
   "outputs": [],
   "source": [
    "#Omitting outliers\n",
    "\n",
    "# Create a box plot with subgroups and omit the outliers\n",
    "sns.catplot(x = 'internet', y = 'G3', data = student_data, kind = 'box', col = 'location', hue = 'location', sym = '')\n",
    "\n",
    "# Show plot\n",
    "plt.show()"
   ]
  },
  {
   "cell_type": "code",
   "execution_count": null,
   "metadata": {},
   "outputs": [],
   "source": [
    "#Adjusting the whiskers\n",
    "\n",
    "# Set the whiskers to 0.5 * IQR\n",
    "sns.catplot(x=\"romantic\", y=\"G3\",\n",
    "            data=student_data,\n",
    "            kind=\"box\",\n",
    "            whis=0.5)\n",
    "\n",
    "# Show plot\n",
    "plt.show()"
   ]
  },
  {
   "cell_type": "code",
   "execution_count": null,
   "metadata": {},
   "outputs": [],
   "source": [
    "# Extend the whiskers to the 5th and 95th percentile\n",
    "sns.catplot(x=\"romantic\", y=\"G3\",\n",
    "            data=student_data,\n",
    "            kind=\"box\",\n",
    "            whis=[5, 95])\n",
    "\n",
    "# Show plot\n",
    "plt.show()"
   ]
  },
  {
   "cell_type": "code",
   "execution_count": null,
   "metadata": {},
   "outputs": [],
   "source": [
    "# Set the whiskers at the min and max values\n",
    "sns.catplot(x=\"romantic\", y=\"G3\",\n",
    "            data=student_data,\n",
    "            kind=\"box\",\n",
    "            whis=[0, 100])\n",
    "\n",
    "# Show plot\n",
    "plt.show()"
   ]
  },
  {
   "cell_type": "code",
   "execution_count": null,
   "metadata": {},
   "outputs": [],
   "source": [
    "#Customizing point plots\n",
    "\n",
    "# Create a point plot of family relationship vs. absences\n",
    "sns.catplot(x = 'famrel', y = 'absences', data = student_data, kind = 'point')\n",
    "  \n",
    "# Show plot\n",
    "plt.show()"
   ]
  },
  {
   "cell_type": "code",
   "execution_count": null,
   "metadata": {},
   "outputs": [],
   "source": [
    "# Add caps to the confidence interval\n",
    "sns.catplot(x=\"famrel\", y=\"absences\",\n",
    "            data=student_data,\n",
    "            kind=\"point\",\n",
    "            capsize = 0.2)\n",
    "        \n",
    "# Show plot\n",
    "plt.show()"
   ]
  },
  {
   "cell_type": "code",
   "execution_count": null,
   "metadata": {},
   "outputs": [],
   "source": [
    "# Remove the lines joining the points\n",
    "sns.catplot(x=\"famrel\", y=\"absences\",\n",
    "            data=student_data,\n",
    "            kind=\"point\",\n",
    "            capsize=0.2,\n",
    "            join = False)\n",
    "            \n",
    "# Show plot\n",
    "plt.show()"
   ]
  },
  {
   "cell_type": "code",
   "execution_count": null,
   "metadata": {},
   "outputs": [],
   "source": [
    "#Point plots with subgroups\n",
    "\n",
    "# Create a point plot with subgroups\n",
    "sns.catplot(x = 'romantic', y = 'absences', data = student_data, kind = 'point', hue = 'school')\n",
    "\n",
    "# Show plot\n",
    "plt.show()"
   ]
  },
  {
   "cell_type": "code",
   "execution_count": null,
   "metadata": {},
   "outputs": [],
   "source": [
    "# Turn off the confidence intervals for this plot\n",
    "sns.catplot(x=\"romantic\", y=\"absences\",\n",
    "            data=student_data,\n",
    "            kind=\"point\",\n",
    "            hue=\"school\",\n",
    "            ci = None)\n",
    "\n",
    "# Show plot\n",
    "plt.show()"
   ]
  },
  {
   "cell_type": "code",
   "execution_count": null,
   "metadata": {},
   "outputs": [],
   "source": [
    "# Import median function from numpy\n",
    "from numpy import median\n",
    "\n",
    "# Plot the median number of absences instead of the mean\n",
    "sns.catplot(x=\"romantic\", y=\"absences\",\n",
    "            data=student_data,\n",
    "            kind=\"point\",\n",
    "            hue=\"school\",\n",
    "            ci=None,\n",
    "            estimator = median)\n",
    "\n",
    "# Show plot\n",
    "plt.show()"
   ]
  },
  {
   "cell_type": "code",
   "execution_count": null,
   "metadata": {},
   "outputs": [],
   "source": [
    "#Changing style and palette\n",
    "\n",
    "# Set the style to \"whitegrid\"\n",
    "sns.set_style('whitegrid')\n",
    "\n",
    "# Create a count plot of survey responses\n",
    "category_order = [\"Never\", \"Rarely\", \"Sometimes\", \n",
    "                  \"Often\", \"Always\"]\n",
    "\n",
    "sns.catplot(x=\"Parents Advice\", \n",
    "            data=survey_data, \n",
    "            kind=\"count\", \n",
    "            order=category_order)\n",
    "\n",
    "# Show plot\n",
    "plt.show()"
   ]
  },
  {
   "cell_type": "code",
   "execution_count": null,
   "metadata": {},
   "outputs": [],
   "source": [
    "# Set the color palette to \"Purples\"\n",
    "sns.set_style(\"whitegrid\")\n",
    "sns.set_palette(\"Purples\")\n",
    "\n",
    "# Create a count plot of survey responses\n",
    "category_order = [\"Never\", \"Rarely\", \"Sometimes\", \n",
    "                  \"Often\", \"Always\"]\n",
    "\n",
    "sns.catplot(x=\"Parents Advice\", \n",
    "            data=survey_data, \n",
    "            kind=\"count\", \n",
    "            order=category_order)\n",
    "\n",
    "# Show plot\n",
    "plt.show()"
   ]
  },
  {
   "cell_type": "code",
   "execution_count": null,
   "metadata": {},
   "outputs": [],
   "source": [
    "# Change the color palette to \"RdBu\"\n",
    "sns.set_style(\"whitegrid\")\n",
    "sns.set_palette(\"RdBu\")\n",
    "\n",
    "# Create a count plot of survey responses\n",
    "category_order = [\"Never\", \"Rarely\", \"Sometimes\", \n",
    "                  \"Often\", \"Always\"]\n",
    "\n",
    "sns.catplot(x=\"Parents Advice\", \n",
    "            data=survey_data, \n",
    "            kind=\"count\", \n",
    "            order=category_order)\n",
    "\n",
    "# Show plot\n",
    "plt.show()"
   ]
  },
  {
   "cell_type": "code",
   "execution_count": null,
   "metadata": {},
   "outputs": [],
   "source": [
    "#Changing the scale\n",
    "\n",
    "# Set the context to \"paper\"\n",
    "sns.set_context('paper')\n",
    "\n",
    "# Create bar plot\n",
    "sns.catplot(x=\"Number of Siblings\", y=\"Feels Lonely\",\n",
    "            data=survey_data, kind=\"bar\")\n",
    "\n",
    "# Show plot\n",
    "plt.show()"
   ]
  },
  {
   "cell_type": "code",
   "execution_count": null,
   "metadata": {},
   "outputs": [],
   "source": [
    "# Change the context to \"notebook\"\n",
    "sns.set_context(\"notebook\")\n",
    "\n",
    "# Create bar plot\n",
    "sns.catplot(x=\"Number of Siblings\", y=\"Feels Lonely\",\n",
    "            data=survey_data, kind=\"bar\")\n",
    "\n",
    "# Show plot\n",
    "plt.show()"
   ]
  },
  {
   "cell_type": "code",
   "execution_count": null,
   "metadata": {},
   "outputs": [],
   "source": [
    "# Change the context to \"talk\"\n",
    "sns.set_context(\"talk\")\n",
    "\n",
    "# Create bar plot\n",
    "sns.catplot(x=\"Number of Siblings\", y=\"Feels Lonely\",\n",
    "            data=survey_data, kind=\"bar\")\n",
    "\n",
    "# Show plot\n",
    "plt.show()"
   ]
  },
  {
   "cell_type": "code",
   "execution_count": null,
   "metadata": {},
   "outputs": [],
   "source": [
    "# Change the context to \"poster\"\n",
    "sns.set_context(\"poster\")\n",
    "\n",
    "# Create bar plot\n",
    "sns.catplot(x=\"Number of Siblings\", y=\"Feels Lonely\",\n",
    "            data=survey_data, kind=\"bar\")\n",
    "\n",
    "# Show plot\n",
    "plt.show()"
   ]
  },
  {
   "cell_type": "code",
   "execution_count": null,
   "metadata": {},
   "outputs": [],
   "source": [
    "#Using a custom palette\n",
    "\n",
    "# Set the style to \"darkgrid\"\n",
    "sns.set_style('darkgrid')\n",
    "\n",
    "# Set a custom color palette\n",
    "sns.set_palette(['#39A7D0', '#36ADA4'])\n",
    "\n",
    "# Create the box plot of age distribution by gender\n",
    "sns.catplot(x=\"Gender\", y=\"Age\", \n",
    "            data=survey_data, kind=\"box\")\n",
    "\n",
    "# Show plot\n",
    "plt.show()"
   ]
  },
  {
   "cell_type": "code",
   "execution_count": null,
   "metadata": {},
   "outputs": [],
   "source": [
    "#FacetGrids vs. AxesSubplots\n",
    "\n",
    "# Create scatter plot\n",
    "g = sns.relplot(x=\"weight\", \n",
    "                y=\"horsepower\", \n",
    "                data=mpg,\n",
    "                kind=\"scatter\")\n",
    "\n",
    "# Identify plot type\n",
    "type_of_g = type(g)\n",
    "\n",
    "# Print type\n",
    "print(type_of_g)"
   ]
  },
  {
   "cell_type": "code",
   "execution_count": null,
   "metadata": {},
   "outputs": [],
   "source": [
    "#Adding a title to a FacetGrid object\n",
    "\n",
    "# Create scatter plot\n",
    "g = sns.relplot(x=\"weight\", \n",
    "                y=\"horsepower\", \n",
    "                data=mpg,\n",
    "                kind=\"scatter\")\n",
    "\n",
    "# Add a title \"Car Weight vs. Horsepower\"\n",
    "g.fig.suptitle('Car Weight vs. Horsepower')\n",
    "\n",
    "# Show plot\n",
    "plt.show()"
   ]
  },
  {
   "cell_type": "code",
   "execution_count": null,
   "metadata": {},
   "outputs": [],
   "source": [
    "#Adding a title and axis labels\n",
    "\n",
    "# Create line plot\n",
    "g = sns.lineplot(x=\"model_year\", y=\"mpg_mean\", \n",
    "                 data=mpg_mean,\n",
    "                 hue=\"origin\")\n",
    "\n",
    "# Add a title \"Average MPG Over Time\"\n",
    "g.set_title('Average MPG Over Time')\n",
    "\n",
    "# Show plot\n",
    "plt.show()"
   ]
  },
  {
   "cell_type": "code",
   "execution_count": null,
   "metadata": {},
   "outputs": [],
   "source": [
    "# Create line plot\n",
    "g = sns.lineplot(x=\"model_year\", y=\"mpg_mean\", \n",
    "                 data=mpg_mean,\n",
    "                 hue=\"origin\")\n",
    "\n",
    "# Add a title \"Average MPG Over Time\"\n",
    "g.set_title(\"Average MPG Over Time\")\n",
    "\n",
    "# Add x-axis and y-axis labels\n",
    "g.set(xlabel = 'Car Model Year',\n",
    "      ylabel = 'Average MPG')\n",
    "\n",
    "\n",
    "# Show plot\n",
    "plt.show()"
   ]
  },
  {
   "cell_type": "code",
   "execution_count": null,
   "metadata": {},
   "outputs": [],
   "source": [
    "#Rotating x-tick labels\n",
    "\n",
    "# Create point plot\n",
    "sns.catplot(x=\"origin\", \n",
    "            y=\"acceleration\", \n",
    "            data=mpg, \n",
    "            kind=\"point\", \n",
    "            join=False, \n",
    "            capsize=0.1)\n",
    "\n",
    "# Rotate x-tick labels\n",
    "plt.xticks(rotation = 90)\n",
    "\n",
    "# Show plot\n",
    "plt.show()"
   ]
  },
  {
   "cell_type": "code",
   "execution_count": null,
   "metadata": {},
   "outputs": [],
   "source": [
    "#Box plot with subgroups\n",
    "\n",
    "# Set palette to \"Blues\"\n",
    "sns.set_palette('Blues')\n",
    "\n",
    "# Adjust to add subgroups based on \"Interested in Pets\"\n",
    "g = sns.catplot(x=\"Gender\",\n",
    "                y=\"Age\", data=survey_data, \n",
    "                kind=\"box\", hue='Interested in Pets')\n",
    "\n",
    "# Set title to \"Age of Those Interested in Pets vs. Not\"\n",
    "g.fig.suptitle('Age of Those Interested in Pets vs. Not')\n",
    "\n",
    "# Show plot\n",
    "plt.show()"
   ]
  },
  {
   "cell_type": "code",
   "execution_count": null,
   "metadata": {},
   "outputs": [],
   "source": [
    "#Bar plot with subgroups and subplots\n",
    "\n",
    "# Set the figure style to \"dark\"\n",
    "sns.set_style('dark')\n",
    "\n",
    "# Adjust to add subplots per gender\n",
    "g = sns.catplot(x=\"Village - town\", y=\"Likes Techno\", \n",
    "                data=survey_data, kind=\"bar\",\n",
    "                col='Gender')\n",
    "\n",
    "# Add title and axis labels\n",
    "g.fig.suptitle(\"Percentage of Young People Who Like Techno\", y=1.02)\n",
    "g.set(xlabel=\"Location of Residence\", \n",
    "       ylabel=\"% Who Like Techno\")\n",
    "\n",
    "# Show plot\n",
    "plt.show()"
   ]
  }
 ],
 "metadata": {
  "kernelspec": {
   "display_name": "Python 3",
   "language": "python",
   "name": "python3"
  },
  "language_info": {
   "codemirror_mode": {
    "name": "ipython",
    "version": 3
   },
   "file_extension": ".py",
   "mimetype": "text/x-python",
   "name": "python",
   "nbconvert_exporter": "python",
   "pygments_lexer": "ipython3",
   "version": "3.7.3"
  }
 },
 "nbformat": 4,
 "nbformat_minor": 2
}
