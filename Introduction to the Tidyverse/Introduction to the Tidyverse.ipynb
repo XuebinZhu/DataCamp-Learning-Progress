{
 "cells": [
  {
   "cell_type": "code",
   "execution_count": null,
   "metadata": {},
   "outputs": [],
   "source": [
    "# Load the gapminder package\n",
    "library(gapminder)\n",
    "\n",
    "# Load the dplyr package\n",
    "library(dplyr)\n",
    "\n",
    "# Look at the gapminder dataset\n",
    "gapminder"
   ]
  },
  {
   "cell_type": "code",
   "execution_count": null,
   "metadata": {},
   "outputs": [],
   "source": [
    "# Filter the gapminder dataset for the year 1957\n",
    "gapminder %>%\n",
    "  filter(year == 1957)"
   ]
  },
  {
   "cell_type": "code",
   "execution_count": null,
   "metadata": {},
   "outputs": [],
   "source": [
    "# Filter for China in 2002\n",
    "gapminder %>%\n",
    "    filter(country == 'China', year == 2002)"
   ]
  },
  {
   "cell_type": "code",
   "execution_count": null,
   "metadata": {},
   "outputs": [],
   "source": [
    "# Sort in ascending order of lifeExp\n",
    "gapminder %>%\n",
    "    arrange(lifeExp)\n",
    "\n",
    "  \n",
    "# Sort in descending order of lifeExp\n",
    "gapminder %>%\n",
    "    arrange(desc(lifeExp))"
   ]
  },
  {
   "cell_type": "code",
   "execution_count": null,
   "metadata": {},
   "outputs": [],
   "source": [
    "# Filter for the year 1957, then arrange in descending order of population\n",
    "gapminder %>%\n",
    "    arrange(desc(pop)) %>%\n",
    "    filter(year == 1957)"
   ]
  },
  {
   "cell_type": "code",
   "execution_count": null,
   "metadata": {},
   "outputs": [],
   "source": [
    "# Use mutate to change lifeExp to be in months\n",
    "gapminder %>%\n",
    "    mutate(lifeExp = lifeExp * 12)\n",
    "# Use mutate to create a new column called lifeExpMonths\n",
    "gapminder %>%\n",
    "    mutate(lifeExpMonths = lifeExp * 12)"
   ]
  },
  {
   "cell_type": "code",
   "execution_count": null,
   "metadata": {},
   "outputs": [],
   "source": [
    "# Filter, mutate, and arrange the gapminder dataset\n",
    "gapminder %>%\n",
    "    mutate(lifeExpMonths = lifeExp * 12) %>%\n",
    "    arrange(desc(lifeExpMonths)) %>%\n",
    "    filter(year == 2007)"
   ]
  },
  {
   "cell_type": "code",
   "execution_count": null,
   "metadata": {},
   "outputs": [],
   "source": [
    "# Load the ggplot2 package as well\n",
    "library(gapminder)\n",
    "library(dplyr)\n",
    "library(ggplot2)\n",
    "\n",
    "# Create gapminder_1952\n",
    "gapminder_1952 <- gapminder %>%\n",
    "                      filter(year == 1952)\n",
    "gapminder_1952"
   ]
  },
  {
   "cell_type": "code",
   "execution_count": null,
   "metadata": {},
   "outputs": [],
   "source": [
    "gapminder_1952 <- gapminder %>%\n",
    "  filter(year == 1952)\n",
    "\n",
    "# Change to put pop on the x-axis and gdpPercap on the y-axis\n",
    "ggplot(gapminder_1952, aes(x = pop, y = gdpPercap)) +  geom_point()"
   ]
  },
  {
   "cell_type": "code",
   "execution_count": null,
   "metadata": {},
   "outputs": [],
   "source": [
    "gapminder_1952 <- gapminder %>%\n",
    "  filter(year == 1952)\n",
    "\n",
    "# Create a scatter plot with pop on the x-axis and lifeExp on the y-axis\n",
    "ggplot(gapminder_1952, aes(x = pop, y = lifeExp)) + geom_point()"
   ]
  },
  {
   "cell_type": "code",
   "execution_count": null,
   "metadata": {},
   "outputs": [],
   "source": [
    "gapminder_1952 <- gapminder %>%\n",
    "  filter(year == 1952)\n",
    "\n",
    "# Change this plot to put the x-axis on a log scale\n",
    "ggplot(gapminder_1952, aes(x = pop, y = lifeExp)) +\n",
    "  geom_point() + scale_x_log10()"
   ]
  },
  {
   "cell_type": "code",
   "execution_count": null,
   "metadata": {},
   "outputs": [],
   "source": [
    "gapminder_1952 <- gapminder %>%\n",
    "  filter(year == 1952)\n",
    "\n",
    "# Scatter plot comparing pop and lifeExp, with color representing continent\n",
    "ggplot(gapminder_1952, aes(x = pop, y = lifeExp, color = continent)) +\n",
    "  geom_point() + \n",
    "  scale_x_log10()"
   ]
  },
  {
   "cell_type": "code",
   "execution_count": null,
   "metadata": {},
   "outputs": [],
   "source": [
    "gapminder_1952 <- gapminder %>%\n",
    "  filter(year == 1952)\n",
    "\n",
    "# Add the size aesthetic to represent a country's gdpPercap\n",
    "ggplot(gapminder_1952, aes(x = pop, y = lifeExp, color = continent, size = gdpPercap)) +\n",
    "  geom_point() +\n",
    "  scale_x_log10()"
   ]
  },
  {
   "cell_type": "code",
   "execution_count": null,
   "metadata": {},
   "outputs": [],
   "source": [
    "gapminder_1952 <- gapminder %>%\n",
    "  filter(year == 1952)\n",
    "\n",
    "# Scatter plot comparing pop and lifeExp, faceted by continent\n",
    "ggplot(gapminder_1952, aes(x = pop, y = lifeExp)) + \n",
    "geom_point() + scale_x_log10() + facet_wrap(~ continent)"
   ]
  },
  {
   "cell_type": "code",
   "execution_count": null,
   "metadata": {},
   "outputs": [],
   "source": [
    "# Scatter plot comparing gdpPercap and lifeExp, with color representing continent\n",
    "# and size representing population, faceted by year\n",
    "ggplot(gapminder, aes(x = gdpPercap, y = lifeExp, color = continent, size = pop)) +\n",
    "geom_point() + scale_x_log10() + facet_wrap(~ year)"
   ]
  },
  {
   "cell_type": "code",
   "execution_count": null,
   "metadata": {},
   "outputs": [],
   "source": [
    "# Summarize to find the median life expectancy\n",
    "gapminder %>%\n",
    "    summarize(medianLifeExp = median(lifeExp))"
   ]
  },
  {
   "cell_type": "code",
   "execution_count": null,
   "metadata": {},
   "outputs": [],
   "source": [
    "# Filter for 1957 then summarize the median life expectancy\n",
    "gapminder %>%\n",
    "    filter(year == 1957) %>%\n",
    "    summarize(medianLifeExp = median(lifeExp))"
   ]
  },
  {
   "cell_type": "code",
   "execution_count": null,
   "metadata": {},
   "outputs": [],
   "source": [
    "# Filter for 1957 then summarize the median life expectancy and the maximum GDP per capita\n",
    "gapminder %>%\n",
    "    filter(year == 1957) %>%\n",
    "        summarize(medianLifeExp = median(lifeExp), maxGdpPercap = max(gdpPercap)) "
   ]
  },
  {
   "cell_type": "code",
   "execution_count": null,
   "metadata": {},
   "outputs": [],
   "source": [
    "# Find median life expectancy and maximum GDP per capita in each year\n",
    "gapminder %>%\n",
    "    group_by(year) %>%\n",
    "      summarize(medianLifeExp = median(lifeExp), maxGdpPercap = max(gdpPercap))"
   ]
  },
  {
   "cell_type": "code",
   "execution_count": null,
   "metadata": {},
   "outputs": [],
   "source": [
    "# Find median life expectancy and maximum GDP per capita in each continent in 1957\n",
    "gapminder %>%\n",
    "    filter(year == 1957) %>%\n",
    "        group_by(continent) %>%\n",
    "            summarize(medianLifeExp = median(lifeExp), \n",
    "                      maxGdpPercap = max(gdpPercap))"
   ]
  },
  {
   "cell_type": "code",
   "execution_count": null,
   "metadata": {},
   "outputs": [],
   "source": [
    "# Find median life expectancy and maximum GDP per capita in each continent/year combination\n",
    "gapminder %>%\n",
    "    group_by(continent, year) %>%\n",
    "        summarize(medianLifeExp = median(lifeExp), \n",
    "                  maxGdpPercap = max(gdpPercap)\n",
    "        )"
   ]
  },
  {
   "cell_type": "code",
   "execution_count": null,
   "metadata": {},
   "outputs": [],
   "source": [
    "by_year <- gapminder %>%\n",
    "  group_by(year) %>%\n",
    "  summarize(medianLifeExp = median(lifeExp),\n",
    "            maxGdpPercap = max(gdpPercap))\n",
    "\n",
    "# Create a scatter plot showing the change in medianLifeExp over time\n",
    "ggplot(by_year, aes(x = year, y = medianLifeExp)\n",
    "      ) + \n",
    "      geom_point() +\n",
    "      expand_limits(y = 0)"
   ]
  },
  {
   "cell_type": "code",
   "execution_count": null,
   "metadata": {},
   "outputs": [],
   "source": [
    "# Summarize medianGdpPercap within each continent within each year: by_year_continent\n",
    "by_year_continent <- gapminder %>%\n",
    "                      group_by(continent, year) %>%\n",
    "                      summarize(medianGdpPercap = median(gdpPercap)\n",
    "                      )\n",
    "\n",
    "# Plot the change in medianGdpPercap in each continent over time\n",
    "ggplot(by_year_continent, aes(x = year, y = medianGdpPercap), color = continent\n",
    ") + \n",
    "  geom_point() +\n",
    "  expand_limits(y = 0)\n"
   ]
  },
  {
   "cell_type": "code",
   "execution_count": null,
   "metadata": {},
   "outputs": [],
   "source": [
    "# Summarize the median GDP and median life expectancy per continent in 2007\n",
    "by_continent_2007 <- gapminder %>%\n",
    "    filter(year == 2007) %>%\n",
    "        group_by(continent) %>%\n",
    "            summarize(medianLifeExp = median(lifeExp),\n",
    "                      medianGdpPercap = median(gdpPercap)\n",
    "        )\n",
    "\n",
    "# Use a scatter plot to compare the median GDP and median life expectancy\n",
    "ggplot(by_continent_2007, aes(x = medianGdpPercap, y = medianLifeExp, color = continent)) + \n",
    "geom_point() +\n",
    "expand_limits(y = 0)\n"
   ]
  },
  {
   "cell_type": "code",
   "execution_count": null,
   "metadata": {},
   "outputs": [],
   "source": [
    "# Summarize the median gdpPercap by year, then save it as by_year\n",
    "by_year <- gapminder %>%\n",
    "              group_by(year) %>%\n",
    "                  summarize(medianGdpPercap = median(gdpPercap)\n",
    "                  )\n",
    "\n",
    "# Create a line plot showing the change in medianGdpPercap over time\n",
    "ggplot(by_year, aes(x = year, y = medianGdpPercap)\n",
    ") + geom_line() +\n",
    "expand_limits(y = 0)\n"
   ]
  },
  {
   "cell_type": "code",
   "execution_count": null,
   "metadata": {},
   "outputs": [],
   "source": [
    "# Summarize the median gdpPercap by year & continent, save as by_year_continent\n",
    "by_year_continent <- gapminder %>%\n",
    "                      group_by(year, continent) %>%\n",
    "                          summarize(medianGdpPercap = median(gdpPercap)\n",
    "                          )\n",
    "\n",
    "# Create a line plot showing the change in medianGdpPercap by continent over time\n",
    "ggplot(by_year_continent, aes(x = year, y = medianGdpPercap, color = continent)\n",
    ") + geom_line() + expand_limits(y = 0)\n"
   ]
  },
  {
   "cell_type": "code",
   "execution_count": null,
   "metadata": {},
   "outputs": [],
   "source": [
    "# Summarize the median gdpPercap by year and continent in 1952\n",
    "by_continent <- gapminder %>%\n",
    "                  group_by(continent) %>%\n",
    "                      filter(year == 1952) %>%\n",
    "                          summarize(medianGdpPercap = median(gdpPercap)\n",
    "                          )\n",
    "\n",
    "# Create a bar plot showing medianGdp by continent\n",
    "ggplot(by_continent, aes(x = continent, y = medianGdpPercap)\n",
    ") + geom_col()\n"
   ]
  },
  {
   "cell_type": "code",
   "execution_count": null,
   "metadata": {},
   "outputs": [],
   "source": [
    "# Filter for observations in the Oceania continent in 1952\n",
    "oceania_1952 <- gapminder %>%\n",
    "                  filter(continent == \"Oceania\", year == 1952)\n",
    "\n",
    "# Create a bar plot of gdpPercap by country\n",
    "ggplot(oceania_1952, aes(x = country, y = gdpPercap)\n",
    ") + geom_col()"
   ]
  },
  {
   "cell_type": "code",
   "execution_count": null,
   "metadata": {},
   "outputs": [],
   "source": [
    "gapminder_1952 <- gapminder %>%\n",
    "  filter(year == 1952)\n",
    "\n",
    "# Create a histogram of population (pop)\n",
    "ggplot(gapminder_1952, aes(x = pop)\n",
    ") + geom_histogram()"
   ]
  },
  {
   "cell_type": "code",
   "execution_count": null,
   "metadata": {},
   "outputs": [],
   "source": [
    "gapminder_1952 <- gapminder %>%\n",
    "  filter(year == 1952)\n",
    "\n",
    "# Create a histogram of population (pop), with x on a log scale\n",
    "ggplot(gapminder_1952, aes(x = pop)\n",
    ") + geom_histogram() + scale_x_log10()"
   ]
  },
  {
   "cell_type": "code",
   "execution_count": null,
   "metadata": {},
   "outputs": [],
   "source": [
    "gapminder_1952 <- gapminder %>%\n",
    "  filter(year == 1952)\n",
    "\n",
    "# Create a boxplot comparing gdpPercap among continents\n",
    "ggplot(gapminder_1952, aes(x = continent, y = gdpPercap)\n",
    ") + geom_boxplot() + scale_y_log10()"
   ]
  },
  {
   "cell_type": "code",
   "execution_count": null,
   "metadata": {},
   "outputs": [],
   "source": [
    "gapminder_1952 <- gapminder %>%\n",
    "  filter(year == 1952)\n",
    "\n",
    "# Add a title to this graph: \"Comparing GDP per capita across continents\"\n",
    "ggplot(gapminder_1952, aes(x = continent, y = gdpPercap)) +\n",
    "  geom_boxplot() +\n",
    "  scale_y_log10() +\n",
    "  ggtitle(\"Comparing GDP per capita across continents\")"
   ]
  }
 ],
 "metadata": {
  "kernelspec": {
   "display_name": "Python 3",
   "language": "python",
   "name": "python3"
  },
  "language_info": {
   "codemirror_mode": {
    "name": "ipython",
    "version": 3
   },
   "file_extension": ".py",
   "mimetype": "text/x-python",
   "name": "python",
   "nbconvert_exporter": "python",
   "pygments_lexer": "ipython3",
   "version": "3.7.3"
  }
 },
 "nbformat": 4,
 "nbformat_minor": 2
}
